{
 "cells": [
  {
   "cell_type": "code",
   "execution_count": null,
   "metadata": {},
   "outputs": [
    {
     "name": "stdout",
     "output_type": "stream",
     "text": [
      "         Name  Age    Address Qualification\n",
      "rank1     Jai   27      Delhi           Msc\n",
      "rank2  Princi   24     Kanpur            MA\n",
      "rank3  Gaurav   22  Allahabad           MCA\n",
      "rank4    Anuj   32    Kannauj           Phd\n"
     ]
    }
   ],
   "source": [
    "# Import pandas package\n",
    "import pandas as pd\n",
    " \n",
    "# Define a dictionary containing employee data\n",
    "data = {'Name':['Jai', 'Princi', 'Gaurav', 'Anuj'],\n",
    "        'Age':[27, 24, 22, 32],\n",
    "        'Address':['Delhi', 'Kanpur', 'Allahabad', 'Kannauj'],\n",
    "        'Qualification':['Msc', 'MA', 'MCA', 'Phd']}\n",
    " \n",
    "# Convert the dictionary into DataFrame \n",
    "df = pd.DataFrame(data,index=['rank1', 'rank2', 'rank3', 'rank4'])\n",
    "\n",
    "print(df)\n",
    " \n",
    "# select two columns\n",
    "\n",
    "# print(df[['Name', 'Qualification']])"
   ]
  },
  {
   "cell_type": "code",
   "execution_count": 6,
   "metadata": {},
   "outputs": [
    {
     "name": "stdout",
     "output_type": "stream",
     "text": [
      "   First Score  Second Score  Third Score\n",
      "1          100            30           60\n",
      "2           90            45           40\n",
      "3           90            56           80\n",
      "4           95            75           98\n"
     ]
    }
   ],
   "source": [
    "# importing numpy as np\n",
    "import numpy as np\n",
    " \n",
    "# dictionary of lists\n",
    "d = {'First Score':[100, 90, 90, 95],\n",
    "        'Second Score': [30, 45, 56, 75],\n",
    "        'Third Score':[60, 40, 80, 98]}\n",
    "\n",
    "\n",
    "df2 = pd.DataFrame(data=d,index=(1,2,3,4)) #dataframe pandas method - parameterized - sequence imp - data ,index , dtype , columns ,copy\n",
    "print(df2)\n",
    "\n",
    "#rows-1000, index -1001 to 2000\n",
    "\n",
    "# i = np.arange(1001,2001,1)\n",
    "# df2 = pd.DataFrame(data=d,index=[i for i in range(1001,2001)])\n"
   ]
  },
  {
   "cell_type": "code",
   "execution_count": 7,
   "metadata": {},
   "outputs": [
    {
     "name": "stdout",
     "output_type": "stream",
     "text": [
      "   a  b  c\n",
      "0  1  2  3\n",
      "1  4  5  6\n",
      "2  7  8  9\n"
     ]
    }
   ],
   "source": [
    " df3 = pd.DataFrame(np.array([[1, 2, 3], [4, 5, 6], [7, 8, 9]]),columns=['a', 'b', 'c'])\n",
    " print(df3)"
   ]
  },
  {
   "cell_type": "code",
   "execution_count": 24,
   "metadata": {},
   "outputs": [
    {
     "name": "stdout",
     "output_type": "stream",
     "text": [
      "       x     y     z\n",
      "a  100.0  30.0  60.0\n",
      "b   90.0  45.0  40.0\n",
      "c   90.0  56.0  80.0\n",
      "d   95.0  75.0  98.0\n",
      "   First Score  Second Score  Third Score\n",
      "x        100.0          30.0         60.0\n",
      "y         90.0          45.0         40.0\n",
      "z         90.0          56.0         80.0\n",
      "w         95.0          75.0         98.0\n",
      "   First Score  Second Score  Third Score\n",
      "a        100.0          30.0         60.0\n",
      "b         90.0          45.0         40.0\n",
      "c         90.0          56.0         80.0\n",
      "d         95.0          75.0         98.0\n"
     ]
    }
   ],
   "source": [
    "import pandas as pd\n",
    "\n",
    "d = {'First Score':[100, 90, 90, 95],\n",
    "     'Second Score': [30, 45, 56, 75],\n",
    "     'Third Score':[60, 40, 80, 98]}\n",
    "\n",
    "# Create the DataFrame first with the original column names\n",
    "df4 = pd.DataFrame(data=d, index=['a', 'b', 'c', 'd'], dtype='float')\n",
    "\n",
    "# Rename columns after the DataFrame is created\n",
    "#df4.columns = ['x', 'y', 'z']\n",
    "\n",
    "print(df4.rename(columns = {'First Score':'x','Second Score':'y','Third Score':'z'})) # rename\n",
    "\n",
    "print(df4.rename(index = {'a':'x','b':'y','c':'z','d':'w'}))\n",
    "\n",
    "\n",
    "print(df4)\n"
   ]
  },
  {
   "cell_type": "code",
   "execution_count": null,
   "metadata": {},
   "outputs": [
    {
     "name": "stdout",
     "output_type": "stream",
     "text": [
      "   First Score  Second Score  Third Score\n",
      "a        100.0          30.0         60.0\n",
      "b         90.0          45.0         40.0\n",
      "c         90.0          56.0         80.0\n",
      "d         95.0          75.0         98.0\n",
      "   First Score  Third Score\n",
      "b         90.0         40.0\n",
      "c         90.0         80.0\n",
      "a    100.0\n",
      "b     90.0\n",
      "Name: First Score, dtype: float64\n",
      "   First Score  Second Score  Third Score\n",
      "a        100.0          30.0         50.0\n",
      "b         90.0          45.0         40.0\n",
      "c         90.0          56.0         80.0\n",
      "d         95.0          75.0         98.0\n",
      "{'First Score': [100, 90, 90, 95], 'Second Score': [30, 45, 56, 75], 'Third Score': [60, 40, 80, 98]}\n"
     ]
    }
   ],
   "source": [
    "d = {'First Score':[100, 90, 90, 95],\n",
    "     'Second Score': [30, 45, 56, 75],\n",
    "     'Third Score':[60, 40, 80, 98]} \n",
    "\n",
    "df4 = pd.DataFrame(data=d, index=['a', 'b', 'c', 'd'], dtype='float') #loc iloc\n",
    "\n",
    "print(df4)\n",
    "\n",
    "# print(df4[['Second Score','Third Score']]) s[2:7][::-1]\n",
    "\n",
    "print(df4[['First Score','Third Score']][1:3])\n",
    "\n",
    "print(df4['First Score'][0:2])\n",
    "\n",
    "df4['Third Score']['a'] = 50\n",
    "\n",
    "print(df4)\n",
    "\n",
    "print(d)"
   ]
  }
 ],
 "metadata": {
  "kernelspec": {
   "display_name": "base",
   "language": "python",
   "name": "python3"
  },
  "language_info": {
   "codemirror_mode": {
    "name": "ipython",
    "version": 3
   },
   "file_extension": ".py",
   "mimetype": "text/x-python",
   "name": "python",
   "nbconvert_exporter": "python",
   "pygments_lexer": "ipython3",
   "version": "3.11.7"
  }
 },
 "nbformat": 4,
 "nbformat_minor": 2
}
